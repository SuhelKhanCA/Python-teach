{
  "nbformat": 4,
  "nbformat_minor": 0,
  "metadata": {
    "colab": {
      "provenance": []
    },
    "kernelspec": {
      "name": "python3",
      "display_name": "Python 3"
    },
    "language_info": {
      "name": "python"
    }
  },
  "cells": [
    {
      "cell_type": "code",
      "execution_count": 1,
      "metadata": {
        "id": "wOhegebnd1T0"
      },
      "outputs": [],
      "source": [
        "# Broadcasting\n",
        "\n",
        "import numpy as np"
      ]
    },
    {
      "cell_type": "code",
      "source": [
        "m1 = np.array([[5, 8, 2],\n",
        "               [6, 15, 22],\n",
        "               [3, 10, 31]])\n",
        "\n",
        "m2 = np.array([[5],\n",
        "               [6],\n",
        "               [3]])"
      ],
      "metadata": {
        "id": "3soajn7CgOFo"
      },
      "execution_count": 2,
      "outputs": []
    },
    {
      "cell_type": "code",
      "source": [
        "m3 = m1 + m2"
      ],
      "metadata": {
        "id": "yaDoSLVCiLOX"
      },
      "execution_count": 3,
      "outputs": []
    },
    {
      "cell_type": "code",
      "source": [
        "m3"
      ],
      "metadata": {
        "colab": {
          "base_uri": "https://localhost:8080/"
        },
        "id": "EmpUJDUBiVLr",
        "outputId": "f7a7a9cd-3735-4354-ea0b-068e4c4e04d9"
      },
      "execution_count": 4,
      "outputs": [
        {
          "output_type": "execute_result",
          "data": {
            "text/plain": [
              "array([[10, 13,  7],\n",
              "       [12, 21, 28],\n",
              "       [ 6, 13, 34]])"
            ]
          },
          "metadata": {},
          "execution_count": 4
        }
      ]
    },
    {
      "cell_type": "code",
      "source": [],
      "metadata": {
        "id": "Ovq1r6I8kdWN"
      },
      "execution_count": null,
      "outputs": []
    }
  ]
}