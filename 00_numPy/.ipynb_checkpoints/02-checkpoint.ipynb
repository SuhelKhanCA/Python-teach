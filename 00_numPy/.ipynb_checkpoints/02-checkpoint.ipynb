{
 "cells": [
  {
   "cell_type": "code",
   "execution_count": 1,
   "id": "2f7f31fa",
   "metadata": {},
   "outputs": [
    {
     "name": "stdout",
     "output_type": "stream",
     "text": [
      "This is second lecture\n"
     ]
    }
   ],
   "source": [
    "print(\"This is second lecture\")"
   ]
  },
  {
   "cell_type": "code",
   "execution_count": 2,
   "id": "0dc072ef",
   "metadata": {},
   "outputs": [],
   "source": [
    "import numpy as np"
   ]
  },
  {
   "cell_type": "code",
   "execution_count": 4,
   "id": "e013ef10",
   "metadata": {},
   "outputs": [
    {
     "name": "stdout",
     "output_type": "stream",
     "text": [
      "[[12 34 54]\n",
      " [23  4 56]\n",
      " [ 2 34  6]\n",
      " [ 2 34  6]\n",
      " [ 2 34  6]]\n"
     ]
    }
   ],
   "source": [
    "b = np.array([[12, 34, 54],\n",
    "             [23, 4,56],\n",
    "             [2, 34,6],\n",
    "             [2, 34,6],\n",
    "             [2, 34,6],\n",
    "             ])\n",
    "print(b)"
   ]
  },
  {
   "cell_type": "code",
   "execution_count": 6,
   "id": "ec68a0e1",
   "metadata": {},
   "outputs": [
    {
     "name": "stdout",
     "output_type": "stream",
     "text": [
      "12\n",
      "34\n",
      "54\n",
      "23\n",
      "4\n",
      "56\n",
      "2\n",
      "34\n",
      "6\n",
      "2\n",
      "34\n",
      "6\n",
      "2\n",
      "34\n",
      "6\n"
     ]
    }
   ],
   "source": [
    "for i in range(5):\n",
    "    for j in range(3):\n",
    "        print(b[i][j])"
   ]
  },
  {
   "cell_type": "code",
   "execution_count": 3,
   "id": "611b0e57",
   "metadata": {},
   "outputs": [
    {
     "data": {
      "text/plain": [
       "array([1, 2, 3, 4, 5])"
      ]
     },
     "execution_count": 3,
     "metadata": {},
     "output_type": "execute_result"
    }
   ],
   "source": [
    "ls = [1, 2, 3, 4, 5]\n",
    "\n",
    "arr = np.array(ls)\n",
    "\n",
    "arr"
   ]
  }
 ],
 "metadata": {
  "kernelspec": {
   "display_name": "base",
   "language": "python",
   "name": "python3"
  },
  "language_info": {
   "codemirror_mode": {
    "name": "ipython",
    "version": 3
   },
   "file_extension": ".py",
   "mimetype": "text/x-python",
   "name": "python",
   "nbconvert_exporter": "python",
   "pygments_lexer": "ipython3",
   "version": "3.11.5"
  }
 },
 "nbformat": 4,
 "nbformat_minor": 5
}
