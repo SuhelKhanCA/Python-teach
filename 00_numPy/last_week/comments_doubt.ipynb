{
  "nbformat": 4,
  "nbformat_minor": 0,
  "metadata": {
    "colab": {
      "provenance": []
    },
    "kernelspec": {
      "name": "python3",
      "display_name": "Python 3"
    },
    "language_info": {
      "name": "python"
    }
  },
  "cells": [
    {
      "cell_type": "code",
      "execution_count": 1,
      "metadata": {
        "colab": {
          "base_uri": "https://localhost:8080/"
        },
        "id": "N0OYz7MjYGgB",
        "outputId": "610ab6e1-44a1-40b4-940c-a5a3b2e1da15"
      },
      "outputs": [
        {
          "output_type": "stream",
          "name": "stdout",
          "text": [
            "Aag lga denge\n"
          ]
        }
      ],
      "source": [
        "print(\"Aag lga denge\")"
      ]
    },
    {
      "cell_type": "code",
      "source": [
        "# This is comment(Translater ignores it)"
      ],
      "metadata": {
        "id": "3IBnUgFkYLvo"
      },
      "execution_count": 2,
      "outputs": []
    },
    {
      "cell_type": "code",
      "source": [
        "a = ''' This is\n",
        "multi\n",
        "line comment'''\n",
        "\n",
        "\"\"\" This is\n",
        "multi\n",
        "line comment\"\"\"\n",
        "\n",
        "print(type(a))"
      ],
      "metadata": {
        "colab": {
          "base_uri": "https://localhost:8080/"
        },
        "id": "Jy28BHUhYV4b",
        "outputId": "7724501b-faf0-4a72-c3dc-283f039230c4"
      },
      "execution_count": 6,
      "outputs": [
        {
          "output_type": "stream",
          "name": "stdout",
          "text": [
            "<class 'str'>\n"
          ]
        }
      ]
    }
  ]
}