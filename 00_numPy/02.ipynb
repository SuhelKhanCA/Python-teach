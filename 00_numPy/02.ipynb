{
 "cells": [
  {
   "cell_type": "code",
   "execution_count": 1,
   "id": "2f7f31fa",
   "metadata": {},
   "outputs": [
    {
     "name": "stdout",
     "output_type": "stream",
     "text": [
      "This is second lecture\n"
     ]
    }
   ],
   "source": [
    "print(\"This is second lecture\")"
   ]
  },
  {
   "cell_type": "code",
   "execution_count": 1,
   "id": "0dc072ef",
   "metadata": {},
   "outputs": [],
   "source": [
    "import numpy as np"
   ]
  },
  {
   "cell_type": "code",
   "execution_count": 4,
   "id": "e013ef10",
   "metadata": {},
   "outputs": [
    {
     "name": "stdout",
     "output_type": "stream",
     "text": [
      "[[12 34 54]\n",
      " [23  4 56]\n",
      " [ 2 34  6]\n",
      " [ 2 34  6]\n",
      " [ 2 34  6]]\n"
     ]
    }
   ],
   "source": [
    "b = np.array([[12, 34, 54],\n",
    "             [23, 4,56],\n",
    "             [2, 34,6],\n",
    "             [2, 34,6],\n",
    "             [2, 34,6],\n",
    "             ])\n",
    "print(b)"
   ]
  },
  {
   "cell_type": "code",
   "execution_count": 6,
   "id": "ec68a0e1",
   "metadata": {},
   "outputs": [
    {
     "name": "stdout",
     "output_type": "stream",
     "text": [
      "12\n",
      "34\n",
      "54\n",
      "23\n",
      "4\n",
      "56\n",
      "2\n",
      "34\n",
      "6\n",
      "2\n",
      "34\n",
      "6\n",
      "2\n",
      "34\n",
      "6\n"
     ]
    }
   ],
   "source": [
    "for i in range(5):\n",
    "    for j in range(3):\n",
    "        print(b[i][j])"
   ]
  },
  {
   "cell_type": "code",
   "execution_count": 2,
   "id": "611b0e57",
   "metadata": {},
   "outputs": [
    {
     "data": {
      "text/plain": [
       "array([1, 2, 3, 4, 5])"
      ]
     },
     "execution_count": 2,
     "metadata": {},
     "output_type": "execute_result"
    }
   ],
   "source": [
    "ls = [1, 2, 3, 4, 5]\n",
    "\n",
    "arr = np.array(ls)\n",
    "\n",
    "arr"
   ]
  },
  {
   "cell_type": "code",
   "execution_count": 3,
   "id": "c2c80525-e56b-4d45-8626-33ecb0e85da9",
   "metadata": {},
   "outputs": [
    {
     "name": "stdout",
     "output_type": "stream",
     "text": [
      "<class 'list'>\n",
      "<class 'numpy.ndarray'>\n"
     ]
    }
   ],
   "source": [
    "print(type(ls))\n",
    "print(type(arr))"
   ]
  },
  {
   "cell_type": "code",
   "execution_count": 13,
   "id": "bd6d308c-285a-4112-a9d2-f1d772fa8998",
   "metadata": {},
   "outputs": [
    {
     "data": {
      "text/plain": [
       "[[1221, 34, 1254],\n",
       " [23, 4, 56],\n",
       " [2, 34, 6],\n",
       " [2, 34, 6],\n",
       " [2, 34, 6],\n",
       " [1221, 34, 1254],\n",
       " [23, 4, 56],\n",
       " [2, 34, 6],\n",
       " [2, 34, 6],\n",
       " [2, 34, 6]]"
      ]
     },
     "execution_count": 13,
     "metadata": {},
     "output_type": "execute_result"
    }
   ],
   "source": [
    "ls2 = [[1221, 34, 1254],\n",
    "         [23, 4, 56],\n",
    "         [ 2, 34,  6],\n",
    "         [ 2, 34,  6],\n",
    "         [ 2, 34,  6]]\n",
    "l4 = ls2 + ls2\n",
    "l4"
   ]
  },
  {
   "cell_type": "code",
   "execution_count": 14,
   "id": "bf42757a-1974-479a-b588-dcfa789f15ad",
   "metadata": {},
   "outputs": [
    {
     "data": {
      "text/plain": [
       "array([[1221,   34, 1254],\n",
       "       [  23,    4,   56],\n",
       "       [   2,   34,    6],\n",
       "       [   2,   34,    6],\n",
       "       [   2,   34,    6]])"
      ]
     },
     "execution_count": 14,
     "metadata": {},
     "output_type": "execute_result"
    }
   ],
   "source": [
    "arr2 = np.array(ls2)\n",
    "arr2"
   ]
  },
  {
   "cell_type": "code",
   "execution_count": 15,
   "id": "9492cbe3-76d8-46c4-8b3a-64837f728ad1",
   "metadata": {},
   "outputs": [
    {
     "data": {
      "text/plain": [
       "array([[2442,   68, 2508],\n",
       "       [  46,    8,  112],\n",
       "       [   4,   68,   12],\n",
       "       [   4,   68,   12],\n",
       "       [   4,   68,   12]])"
      ]
     },
     "execution_count": 15,
     "metadata": {},
     "output_type": "execute_result"
    }
   ],
   "source": [
    "m = arr2 + arr2\n",
    "m"
   ]
  },
  {
   "cell_type": "code",
   "execution_count": 16,
   "id": "bd7fc5ca-3836-4b88-95e8-3f45c0e87d58",
   "metadata": {},
   "outputs": [
    {
     "data": {
      "text/plain": [
       "8"
      ]
     },
     "execution_count": 16,
     "metadata": {},
     "output_type": "execute_result"
    }
   ],
   "source": [
    "m.itemsize"
   ]
  },
  {
   "cell_type": "code",
   "execution_count": 11,
   "id": "3f2cab6a-7979-4d3d-9af5-26ffcbddcf5b",
   "metadata": {},
   "outputs": [
    {
     "data": {
      "text/plain": [
       "array([ True, False])"
      ]
     },
     "execution_count": 11,
     "metadata": {},
     "output_type": "execute_result"
    }
   ],
   "source": [
    "a = np.array([True, False])\n",
    "a"
   ]
  },
  {
   "cell_type": "code",
   "execution_count": 12,
   "id": "32fbb419-505e-4ca5-8a2d-49694c3dfa43",
   "metadata": {},
   "outputs": [
    {
     "data": {
      "text/plain": [
       "1"
      ]
     },
     "execution_count": 12,
     "metadata": {},
     "output_type": "execute_result"
    }
   ],
   "source": [
    "a.itemsize"
   ]
  },
  {
   "cell_type": "code",
   "execution_count": null,
   "id": "38b8a701-f5c1-49aa-b1c8-b7818601535d",
   "metadata": {},
   "outputs": [],
   "source": []
  }
 ],
 "metadata": {
  "kernelspec": {
   "display_name": "Python 3 (ipykernel)",
   "language": "python",
   "name": "python3"
  },
  "language_info": {
   "codemirror_mode": {
    "name": "ipython",
    "version": 3
   },
   "file_extension": ".py",
   "mimetype": "text/x-python",
   "name": "python",
   "nbconvert_exporter": "python",
   "pygments_lexer": "ipython3",
   "version": "3.12.4"
  }
 },
 "nbformat": 4,
 "nbformat_minor": 5
}
